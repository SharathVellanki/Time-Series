{
 "cells": [
  {
   "cell_type": "code",
   "execution_count": 1,
   "id": "27e16144",
   "metadata": {},
   "outputs": [],
   "source": [
    "import pandas as pd\n",
    "import numpy as np\n",
    "import matplotlib.pyplot as plt\n",
    "%matplotlib inline\n",
    "pd.set_option('display.max_columns',None)"
   ]
  },
  {
   "cell_type": "code",
   "execution_count": 2,
   "id": "449614dd",
   "metadata": {},
   "outputs": [
    {
     "name": "stdout",
     "output_type": "stream",
     "text": [
      "Defaulting to user installation because normal site-packages is not writeable\n",
      "Requirement already satisfied: pandas-datareader in c:\\users\\sharath vellanki\\appdata\\roaming\\python\\python39\\site-packages (0.10.0)\n",
      "Requirement already satisfied: pandas>=0.23 in c:\\program files\\anaconda\\lib\\site-packages (from pandas-datareader) (1.4.4)\n",
      "Requirement already satisfied: lxml in c:\\program files\\anaconda\\lib\\site-packages (from pandas-datareader) (4.9.1)\n",
      "Requirement already satisfied: requests>=2.19.0 in c:\\users\\sharath vellanki\\appdata\\roaming\\python\\python39\\site-packages (from pandas-datareader) (2.31.0)\n",
      "Requirement already satisfied: numpy>=1.18.5 in c:\\program files\\anaconda\\lib\\site-packages (from pandas>=0.23->pandas-datareader) (1.21.5)\n",
      "Requirement already satisfied: python-dateutil>=2.8.1 in c:\\program files\\anaconda\\lib\\site-packages (from pandas>=0.23->pandas-datareader) (2.8.2)\n",
      "Requirement already satisfied: pytz>=2020.1 in c:\\users\\sharath vellanki\\appdata\\roaming\\python\\python39\\site-packages (from pandas>=0.23->pandas-datareader) (2024.1)\n",
      "Requirement already satisfied: idna<4,>=2.5 in c:\\program files\\anaconda\\lib\\site-packages (from requests>=2.19.0->pandas-datareader) (3.3)\n",
      "Requirement already satisfied: charset-normalizer<4,>=2 in c:\\program files\\anaconda\\lib\\site-packages (from requests>=2.19.0->pandas-datareader) (2.0.4)\n",
      "Requirement already satisfied: urllib3<3,>=1.21.1 in c:\\program files\\anaconda\\lib\\site-packages (from requests>=2.19.0->pandas-datareader) (1.26.11)\n",
      "Requirement already satisfied: certifi>=2017.4.17 in c:\\program files\\anaconda\\lib\\site-packages (from requests>=2.19.0->pandas-datareader) (2022.9.14)\n",
      "Requirement already satisfied: six>=1.5 in c:\\program files\\anaconda\\lib\\site-packages (from python-dateutil>=2.8.1->pandas>=0.23->pandas-datareader) (1.16.0)\n",
      "Note: you may need to restart the kernel to use updated packages.\n"
     ]
    }
   ],
   "source": [
    "pip install pandas-datareader"
   ]
  },
  {
   "cell_type": "code",
   "execution_count": 3,
   "id": "2397a867",
   "metadata": {},
   "outputs": [],
   "source": [
    "import pandas_datareader as pdr\n",
    "from datetime import datetime"
   ]
  },
  {
   "cell_type": "code",
   "execution_count": 4,
   "id": "160dfb41",
   "metadata": {},
   "outputs": [
    {
     "name": "stdout",
     "output_type": "stream",
     "text": [
      "Defaulting to user installation because normal site-packages is not writeable\n",
      "Requirement already satisfied: yfinance in c:\\users\\sharath vellanki\\appdata\\roaming\\python\\python39\\site-packages (0.2.36)\n",
      "Requirement already satisfied: requests>=2.31 in c:\\users\\sharath vellanki\\appdata\\roaming\\python\\python39\\site-packages (from yfinance) (2.31.0)\n",
      "Requirement already satisfied: pandas>=1.3.0 in c:\\program files\\anaconda\\lib\\site-packages (from yfinance) (1.4.4)\n",
      "Requirement already satisfied: numpy>=1.16.5 in c:\\program files\\anaconda\\lib\\site-packages (from yfinance) (1.21.5)\n",
      "Requirement already satisfied: appdirs>=1.4.4 in c:\\program files\\anaconda\\lib\\site-packages (from yfinance) (1.4.4)\n",
      "Requirement already satisfied: pytz>=2022.5 in c:\\users\\sharath vellanki\\appdata\\roaming\\python\\python39\\site-packages (from yfinance) (2024.1)\n",
      "Requirement already satisfied: peewee>=3.16.2 in c:\\users\\sharath vellanki\\appdata\\roaming\\python\\python39\\site-packages (from yfinance) (3.17.1)\n",
      "Requirement already satisfied: beautifulsoup4>=4.11.1 in c:\\program files\\anaconda\\lib\\site-packages (from yfinance) (4.11.1)\n",
      "Requirement already satisfied: lxml>=4.9.1 in c:\\program files\\anaconda\\lib\\site-packages (from yfinance) (4.9.1)\n",
      "Requirement already satisfied: html5lib>=1.1 in c:\\users\\sharath vellanki\\appdata\\roaming\\python\\python39\\site-packages (from yfinance) (1.1)\n",
      "Requirement already satisfied: multitasking>=0.0.7 in c:\\users\\sharath vellanki\\appdata\\roaming\\python\\python39\\site-packages (from yfinance) (0.0.11)\n",
      "Requirement already satisfied: frozendict>=2.3.4 in c:\\users\\sharath vellanki\\appdata\\roaming\\python\\python39\\site-packages (from yfinance) (2.4.0)\n",
      "Requirement already satisfied: soupsieve>1.2 in c:\\program files\\anaconda\\lib\\site-packages (from beautifulsoup4>=4.11.1->yfinance) (2.3.1)\n",
      "Requirement already satisfied: webencodings in c:\\program files\\anaconda\\lib\\site-packages (from html5lib>=1.1->yfinance) (0.5.1)\n",
      "Requirement already satisfied: six>=1.9 in c:\\program files\\anaconda\\lib\\site-packages (from html5lib>=1.1->yfinance) (1.16.0)\n",
      "Requirement already satisfied: python-dateutil>=2.8.1 in c:\\program files\\anaconda\\lib\\site-packages (from pandas>=1.3.0->yfinance) (2.8.2)\n",
      "Requirement already satisfied: certifi>=2017.4.17 in c:\\program files\\anaconda\\lib\\site-packages (from requests>=2.31->yfinance) (2022.9.14)\n",
      "Requirement already satisfied: idna<4,>=2.5 in c:\\program files\\anaconda\\lib\\site-packages (from requests>=2.31->yfinance) (3.3)\n",
      "Requirement already satisfied: urllib3<3,>=1.21.1 in c:\\program files\\anaconda\\lib\\site-packages (from requests>=2.31->yfinance) (1.26.11)\n",
      "Requirement already satisfied: charset-normalizer<4,>=2 in c:\\program files\\anaconda\\lib\\site-packages (from requests>=2.31->yfinance) (2.0.4)\n",
      "Note: you may need to restart the kernel to use updated packages.\n"
     ]
    }
   ],
   "source": [
    "pip install yfinance"
   ]
  },
  {
   "cell_type": "code",
   "execution_count": 5,
   "id": "bc7baf54",
   "metadata": {},
   "outputs": [
    {
     "name": "stderr",
     "output_type": "stream",
     "text": [
      "C:\\Users\\Sharath Vellanki\\AppData\\Roaming\\Python\\Python39\\site-packages\\yfinance\\base.py:48: FutureWarning: The default dtype for empty Series will be 'object' instead of 'float64' in a future version. Specify a dtype explicitly to silence this warning.\n",
      "  _empty_series = pd.Series()\n",
      "[*********************100%%**********************]  1 of 1 completed\n"
     ]
    }
   ],
   "source": [
    "import yfinance as yf\n",
    "\n",
    "# Fetch historical stock data for Tesla (TSLA)\n",
    "ticker = \"TSLA\"\n",
    "start_date = \"2019-02-16\"\n",
    "end_date = \"2024-02-16\"\n",
    "\n",
    "# Use yfinance to get historical data\n",
    "data = yf.download(ticker, start=start_date, end=end_date)\n",
    "\n"
   ]
  },
  {
   "cell_type": "code",
   "execution_count": 6,
   "id": "6407f03e",
   "metadata": {},
   "outputs": [
    {
     "data": {
      "text/html": [
       "<div>\n",
       "<style scoped>\n",
       "    .dataframe tbody tr th:only-of-type {\n",
       "        vertical-align: middle;\n",
       "    }\n",
       "\n",
       "    .dataframe tbody tr th {\n",
       "        vertical-align: top;\n",
       "    }\n",
       "\n",
       "    .dataframe thead th {\n",
       "        text-align: right;\n",
       "    }\n",
       "</style>\n",
       "<table border=\"1\" class=\"dataframe\">\n",
       "  <thead>\n",
       "    <tr style=\"text-align: right;\">\n",
       "      <th></th>\n",
       "      <th>Open</th>\n",
       "      <th>High</th>\n",
       "      <th>Low</th>\n",
       "      <th>Close</th>\n",
       "      <th>Adj Close</th>\n",
       "      <th>Volume</th>\n",
       "    </tr>\n",
       "    <tr>\n",
       "      <th>Date</th>\n",
       "      <th></th>\n",
       "      <th></th>\n",
       "      <th></th>\n",
       "      <th></th>\n",
       "      <th></th>\n",
       "      <th></th>\n",
       "    </tr>\n",
       "  </thead>\n",
       "  <tbody>\n",
       "    <tr>\n",
       "      <th>2019-02-19</th>\n",
       "      <td>20.437332</td>\n",
       "      <td>20.769333</td>\n",
       "      <td>20.364668</td>\n",
       "      <td>20.375999</td>\n",
       "      <td>20.375999</td>\n",
       "      <td>62526000</td>\n",
       "    </tr>\n",
       "    <tr>\n",
       "      <th>2019-02-20</th>\n",
       "      <td>20.294001</td>\n",
       "      <td>20.420000</td>\n",
       "      <td>19.933332</td>\n",
       "      <td>20.170668</td>\n",
       "      <td>20.170668</td>\n",
       "      <td>107131500</td>\n",
       "    </tr>\n",
       "    <tr>\n",
       "      <th>2019-02-21</th>\n",
       "      <td>20.120667</td>\n",
       "      <td>20.216000</td>\n",
       "      <td>19.366667</td>\n",
       "      <td>19.415333</td>\n",
       "      <td>19.415333</td>\n",
       "      <td>133638000</td>\n",
       "    </tr>\n",
       "    <tr>\n",
       "      <th>2019-02-22</th>\n",
       "      <td>19.632668</td>\n",
       "      <td>19.766666</td>\n",
       "      <td>19.473333</td>\n",
       "      <td>19.647333</td>\n",
       "      <td>19.647333</td>\n",
       "      <td>86109000</td>\n",
       "    </tr>\n",
       "    <tr>\n",
       "      <th>2019-02-25</th>\n",
       "      <td>19.860666</td>\n",
       "      <td>20.193333</td>\n",
       "      <td>19.799999</td>\n",
       "      <td>19.917999</td>\n",
       "      <td>19.917999</td>\n",
       "      <td>99397500</td>\n",
       "    </tr>\n",
       "    <tr>\n",
       "      <th>...</th>\n",
       "      <td>...</td>\n",
       "      <td>...</td>\n",
       "      <td>...</td>\n",
       "      <td>...</td>\n",
       "      <td>...</td>\n",
       "      <td>...</td>\n",
       "    </tr>\n",
       "    <tr>\n",
       "      <th>2024-02-09</th>\n",
       "      <td>190.179993</td>\n",
       "      <td>194.119995</td>\n",
       "      <td>189.479996</td>\n",
       "      <td>193.570007</td>\n",
       "      <td>193.570007</td>\n",
       "      <td>84476300</td>\n",
       "    </tr>\n",
       "    <tr>\n",
       "      <th>2024-02-12</th>\n",
       "      <td>192.110001</td>\n",
       "      <td>194.729996</td>\n",
       "      <td>187.279999</td>\n",
       "      <td>188.130005</td>\n",
       "      <td>188.130005</td>\n",
       "      <td>95498600</td>\n",
       "    </tr>\n",
       "    <tr>\n",
       "      <th>2024-02-13</th>\n",
       "      <td>183.990005</td>\n",
       "      <td>187.259995</td>\n",
       "      <td>182.110001</td>\n",
       "      <td>184.020004</td>\n",
       "      <td>184.020004</td>\n",
       "      <td>86759500</td>\n",
       "    </tr>\n",
       "    <tr>\n",
       "      <th>2024-02-14</th>\n",
       "      <td>185.300003</td>\n",
       "      <td>188.889999</td>\n",
       "      <td>183.350006</td>\n",
       "      <td>188.710007</td>\n",
       "      <td>188.710007</td>\n",
       "      <td>81203000</td>\n",
       "    </tr>\n",
       "    <tr>\n",
       "      <th>2024-02-15</th>\n",
       "      <td>189.160004</td>\n",
       "      <td>200.880005</td>\n",
       "      <td>188.860001</td>\n",
       "      <td>200.449997</td>\n",
       "      <td>200.449997</td>\n",
       "      <td>120831800</td>\n",
       "    </tr>\n",
       "  </tbody>\n",
       "</table>\n",
       "<p>1258 rows × 6 columns</p>\n",
       "</div>"
      ],
      "text/plain": [
       "                  Open        High         Low       Close   Adj Close  \\\n",
       "Date                                                                     \n",
       "2019-02-19   20.437332   20.769333   20.364668   20.375999   20.375999   \n",
       "2019-02-20   20.294001   20.420000   19.933332   20.170668   20.170668   \n",
       "2019-02-21   20.120667   20.216000   19.366667   19.415333   19.415333   \n",
       "2019-02-22   19.632668   19.766666   19.473333   19.647333   19.647333   \n",
       "2019-02-25   19.860666   20.193333   19.799999   19.917999   19.917999   \n",
       "...                ...         ...         ...         ...         ...   \n",
       "2024-02-09  190.179993  194.119995  189.479996  193.570007  193.570007   \n",
       "2024-02-12  192.110001  194.729996  187.279999  188.130005  188.130005   \n",
       "2024-02-13  183.990005  187.259995  182.110001  184.020004  184.020004   \n",
       "2024-02-14  185.300003  188.889999  183.350006  188.710007  188.710007   \n",
       "2024-02-15  189.160004  200.880005  188.860001  200.449997  200.449997   \n",
       "\n",
       "               Volume  \n",
       "Date                   \n",
       "2019-02-19   62526000  \n",
       "2019-02-20  107131500  \n",
       "2019-02-21  133638000  \n",
       "2019-02-22   86109000  \n",
       "2019-02-25   99397500  \n",
       "...               ...  \n",
       "2024-02-09   84476300  \n",
       "2024-02-12   95498600  \n",
       "2024-02-13   86759500  \n",
       "2024-02-14   81203000  \n",
       "2024-02-15  120831800  \n",
       "\n",
       "[1258 rows x 6 columns]"
      ]
     },
     "execution_count": 6,
     "metadata": {},
     "output_type": "execute_result"
    }
   ],
   "source": [
    "data"
   ]
  },
  {
   "cell_type": "code",
   "execution_count": 7,
   "id": "4f7ab788",
   "metadata": {},
   "outputs": [
    {
     "data": {
      "text/plain": [
       "pandas.core.frame.DataFrame"
      ]
     },
     "execution_count": 7,
     "metadata": {},
     "output_type": "execute_result"
    }
   ],
   "source": [
    "type(data)"
   ]
  },
  {
   "cell_type": "code",
   "execution_count": 8,
   "id": "4e4f7d0b",
   "metadata": {},
   "outputs": [
    {
     "data": {
      "text/plain": [
       "<AxesSubplot:xlabel='Date'>"
      ]
     },
     "execution_count": 8,
     "metadata": {},
     "output_type": "execute_result"
    },
    {
     "data": {
      "image/png": "[encoded data removed]",
      "text/plain": [
       "<Figure size 1200x400 with 1 Axes>"
      ]
     },
     "metadata": {},
     "output_type": "display_data"
    }
   ],
   "source": [
    "data['High'].plot(figsize=(12,4))"
   ]
  },
  {
   "cell_type": "code",
   "execution_count": 9,
   "id": "089dfa70",
   "metadata": {},
   "outputs": [
    {
     "data": {
      "text/plain": [
       "<AxesSubplot:xlabel='Date'>"
      ]
     },
     "execution_count": 9,
     "metadata": {},
     "output_type": "execute_result"
    },
    {
     "data": {
      "image/png": "[encoded data removed]",
      "text/plain": [
       "<Figure size 1200x400 with 1 Axes>"
      ]
     },
     "metadata": {},
     "output_type": "display_data"
    }
   ],
   "source": [
    "data['High'].plot(xlim=['2023-01-01','2024-01-31'],figsize=(12,4),color='red',ls='--')"
   ]
  },
  {
   "cell_type": "code",
   "execution_count": 10,
   "id": "5e65c6bf",
   "metadata": {},
   "outputs": [
    {
     "data": {
      "text/html": [
       "<div>\n",
       "<style scoped>\n",
       "    .dataframe tbody tr th:only-of-type {\n",
       "        vertical-align: middle;\n",
       "    }\n",
       "\n",
       "    .dataframe tbody tr th {\n",
       "        vertical-align: top;\n",
       "    }\n",
       "\n",
       "    .dataframe thead th {\n",
       "        text-align: right;\n",
       "    }\n",
       "</style>\n",
       "<table border=\"1\" class=\"dataframe\">\n",
       "  <thead>\n",
       "    <tr style=\"text-align: right;\">\n",
       "      <th></th>\n",
       "      <th>Open</th>\n",
       "      <th>High</th>\n",
       "      <th>Low</th>\n",
       "      <th>Close</th>\n",
       "      <th>Adj Close</th>\n",
       "      <th>Volume</th>\n",
       "    </tr>\n",
       "    <tr>\n",
       "      <th>Date</th>\n",
       "      <th></th>\n",
       "      <th></th>\n",
       "      <th></th>\n",
       "      <th></th>\n",
       "      <th></th>\n",
       "      <th></th>\n",
       "    </tr>\n",
       "  </thead>\n",
       "  <tbody>\n",
       "    <tr>\n",
       "      <th>2023-01-03</th>\n",
       "      <td>118.470001</td>\n",
       "      <td>118.800003</td>\n",
       "      <td>104.639999</td>\n",
       "      <td>108.099998</td>\n",
       "      <td>108.099998</td>\n",
       "      <td>231402800</td>\n",
       "    </tr>\n",
       "    <tr>\n",
       "      <th>2023-01-04</th>\n",
       "      <td>109.110001</td>\n",
       "      <td>114.589996</td>\n",
       "      <td>107.519997</td>\n",
       "      <td>113.639999</td>\n",
       "      <td>113.639999</td>\n",
       "      <td>180389000</td>\n",
       "    </tr>\n",
       "    <tr>\n",
       "      <th>2023-01-05</th>\n",
       "      <td>110.510002</td>\n",
       "      <td>111.750000</td>\n",
       "      <td>107.160004</td>\n",
       "      <td>110.339996</td>\n",
       "      <td>110.339996</td>\n",
       "      <td>157986300</td>\n",
       "    </tr>\n",
       "    <tr>\n",
       "      <th>2023-01-06</th>\n",
       "      <td>103.000000</td>\n",
       "      <td>114.389999</td>\n",
       "      <td>101.809998</td>\n",
       "      <td>113.059998</td>\n",
       "      <td>113.059998</td>\n",
       "      <td>220911100</td>\n",
       "    </tr>\n",
       "    <tr>\n",
       "      <th>2023-01-09</th>\n",
       "      <td>118.959999</td>\n",
       "      <td>123.519997</td>\n",
       "      <td>117.110001</td>\n",
       "      <td>119.769997</td>\n",
       "      <td>119.769997</td>\n",
       "      <td>190284000</td>\n",
       "    </tr>\n",
       "    <tr>\n",
       "      <th>...</th>\n",
       "      <td>...</td>\n",
       "      <td>...</td>\n",
       "      <td>...</td>\n",
       "      <td>...</td>\n",
       "      <td>...</td>\n",
       "      <td>...</td>\n",
       "    </tr>\n",
       "    <tr>\n",
       "      <th>2024-01-25</th>\n",
       "      <td>189.699997</td>\n",
       "      <td>193.000000</td>\n",
       "      <td>180.059998</td>\n",
       "      <td>182.630005</td>\n",
       "      <td>182.630005</td>\n",
       "      <td>198076800</td>\n",
       "    </tr>\n",
       "    <tr>\n",
       "      <th>2024-01-26</th>\n",
       "      <td>185.500000</td>\n",
       "      <td>186.779999</td>\n",
       "      <td>182.100006</td>\n",
       "      <td>183.250000</td>\n",
       "      <td>183.250000</td>\n",
       "      <td>107343200</td>\n",
       "    </tr>\n",
       "    <tr>\n",
       "      <th>2024-01-29</th>\n",
       "      <td>185.630005</td>\n",
       "      <td>191.479996</td>\n",
       "      <td>183.669998</td>\n",
       "      <td>190.929993</td>\n",
       "      <td>190.929993</td>\n",
       "      <td>125013100</td>\n",
       "    </tr>\n",
       "    <tr>\n",
       "      <th>2024-01-30</th>\n",
       "      <td>195.330002</td>\n",
       "      <td>196.360001</td>\n",
       "      <td>190.610001</td>\n",
       "      <td>191.589996</td>\n",
       "      <td>191.589996</td>\n",
       "      <td>109982300</td>\n",
       "    </tr>\n",
       "    <tr>\n",
       "      <th>2024-01-31</th>\n",
       "      <td>187.000000</td>\n",
       "      <td>193.970001</td>\n",
       "      <td>185.850006</td>\n",
       "      <td>187.289993</td>\n",
       "      <td>187.289993</td>\n",
       "      <td>103221400</td>\n",
       "    </tr>\n",
       "  </tbody>\n",
       "</table>\n",
       "<p>271 rows × 6 columns</p>\n",
       "</div>"
      ],
      "text/plain": [
       "                  Open        High         Low       Close   Adj Close  \\\n",
       "Date                                                                     \n",
       "2023-01-03  118.470001  118.800003  104.639999  108.099998  108.099998   \n",
       "2023-01-04  109.110001  114.589996  107.519997  113.639999  113.639999   \n",
       "2023-01-05  110.510002  111.750000  107.160004  110.339996  110.339996   \n",
       "2023-01-06  103.000000  114.389999  101.809998  113.059998  113.059998   \n",
       "2023-01-09  118.959999  123.519997  117.110001  119.769997  119.769997   \n",
       "...                ...         ...         ...         ...         ...   \n",
       "2024-01-25  189.699997  193.000000  180.059998  182.630005  182.630005   \n",
       "2024-01-26  185.500000  186.779999  182.100006  183.250000  183.250000   \n",
       "2024-01-29  185.630005  191.479996  183.669998  190.929993  190.929993   \n",
       "2024-01-30  195.330002  196.360001  190.610001  191.589996  191.589996   \n",
       "2024-01-31  187.000000  193.970001  185.850006  187.289993  187.289993   \n",
       "\n",
       "               Volume  \n",
       "Date                   \n",
       "2023-01-03  231402800  \n",
       "2023-01-04  180389000  \n",
       "2023-01-05  157986300  \n",
       "2023-01-06  220911100  \n",
       "2023-01-09  190284000  \n",
       "...               ...  \n",
       "2024-01-25  198076800  \n",
       "2024-01-26  107343200  \n",
       "2024-01-29  125013100  \n",
       "2024-01-30  109982300  \n",
       "2024-01-31  103221400  \n",
       "\n",
       "[271 rows x 6 columns]"
      ]
     },
     "execution_count": 10,
     "metadata": {},
     "output_type": "execute_result"
    }
   ],
   "source": [
    "data.loc['2023-01-01':'2024-01-31']"
   ]
  },
  {
   "cell_type": "code",
   "execution_count": 11,
   "id": "b443a144",
   "metadata": {},
   "outputs": [
    {
     "data": {
      "text/plain": [
       "DatetimeIndex(['2023-01-03', '2023-01-04', '2023-01-05', '2023-01-06',\n",
       "               '2023-01-09', '2023-01-10', '2023-01-11', '2023-01-12',\n",
       "               '2023-01-13', '2023-01-17',\n",
       "               ...\n",
       "               '2024-01-18', '2024-01-19', '2024-01-22', '2024-01-23',\n",
       "               '2024-01-24', '2024-01-25', '2024-01-26', '2024-01-29',\n",
       "               '2024-01-30', '2024-01-31'],\n",
       "              dtype='datetime64[ns]', name='Date', length=271, freq=None)"
      ]
     },
     "execution_count": 11,
     "metadata": {},
     "output_type": "execute_result"
    }
   ],
   "source": [
    "data.loc['2023-01-01':'2024-01-31'].index"
   ]
  },
  {
   "cell_type": "code",
   "execution_count": 12,
   "id": "238b2bfe",
   "metadata": {},
   "outputs": [],
   "source": [
    "indexes=data.loc['2023-01-01':'2024-01-31'].index"
   ]
  },
  {
   "cell_type": "code",
   "execution_count": 13,
   "id": "b6ba58f4",
   "metadata": {},
   "outputs": [
    {
     "data": {
      "text/plain": [
       "Date\n",
       "2023-01-03    118.470001\n",
       "2023-01-04    109.110001\n",
       "2023-01-05    110.510002\n",
       "2023-01-06    103.000000\n",
       "2023-01-09    118.959999\n",
       "                 ...    \n",
       "2024-01-25    189.699997\n",
       "2024-01-26    185.500000\n",
       "2024-01-29    185.630005\n",
       "2024-01-30    195.330002\n",
       "2024-01-31    187.000000\n",
       "Name: Open, Length: 271, dtype: float64"
      ]
     },
     "execution_count": 13,
     "metadata": {},
     "output_type": "execute_result"
    }
   ],
   "source": [
    "data.loc['2023-01-01':'2024-01-31']['Open']"
   ]
  },
  {
   "cell_type": "code",
   "execution_count": 14,
   "id": "a9b75500",
   "metadata": {},
   "outputs": [],
   "source": [
    "openshare=data.loc['2023-01-01':'2024-01-31']['Open']"
   ]
  },
  {
   "cell_type": "code",
   "execution_count": 15,
   "id": "00310d31",
   "metadata": {},
   "outputs": [
    {
     "data": {
      "text/plain": [
       "[<matplotlib.lines.Line2D at 0x239d992e3d0>]"
      ]
     },
     "execution_count": 15,
     "metadata": {},
     "output_type": "execute_result"
    },
    {
     "data": {
      "image/png": "[encoded data removed]",
      "text/plain": [
       "<Figure size 640x480 with 1 Axes>"
      ]
     },
     "metadata": {},
     "output_type": "display_data"
    }
   ],
   "source": [
    "fig,ax=plt.subplots()\n",
    "ax.plot(indexes,openshare)"
   ]
  },
  {
   "cell_type": "code",
   "execution_count": 16,
   "id": "f3b8cb59",
   "metadata": {},
   "outputs": [],
   "source": [
    "data=data.reset_index()"
   ]
  },
  {
   "cell_type": "code",
   "execution_count": 17,
   "id": "87c8bbcd",
   "metadata": {},
   "outputs": [
    {
     "name": "stdout",
     "output_type": "stream",
     "text": [
      "<class 'pandas.core.frame.DataFrame'>\n",
      "RangeIndex: 1258 entries, 0 to 1257\n",
      "Data columns (total 7 columns):\n",
      " #   Column     Non-Null Count  Dtype         \n",
      "---  ------     --------------  -----         \n",
      " 0   Date       1258 non-null   datetime64[ns]\n",
      " 1   Open       1258 non-null   float64       \n",
      " 2   High       1258 non-null   float64       \n",
      " 3   Low        1258 non-null   float64       \n",
      " 4   Close      1258 non-null   float64       \n",
      " 5   Adj Close  1258 non-null   float64       \n",
      " 6   Volume     1258 non-null   int64         \n",
      "dtypes: datetime64[ns](1), float64(5), int64(1)\n",
      "memory usage: 68.9 KB\n"
     ]
    }
   ],
   "source": [
    "data.info()"
   ]
  },
  {
   "cell_type": "markdown",
   "id": "8397e325",
   "metadata": {},
   "source": [
    "# DateTime"
   ]
  },
  {
   "cell_type": "code",
   "execution_count": 18,
   "id": "d7b7931a",
   "metadata": {},
   "outputs": [],
   "source": [
    "from datetime import datetime"
   ]
  },
  {
   "cell_type": "code",
   "execution_count": 19,
   "id": "0bf26b7b",
   "metadata": {},
   "outputs": [
    {
     "data": {
      "text/plain": [
       "datetime.datetime(2024, 2, 20, 17, 43, 53, 430030)"
      ]
     },
     "execution_count": 19,
     "metadata": {},
     "output_type": "execute_result"
    }
   ],
   "source": [
    "datetime.now()"
   ]
  },
  {
   "cell_type": "code",
   "execution_count": 25,
   "id": "971a7748",
   "metadata": {},
   "outputs": [
    {
     "name": "stdout",
     "output_type": "stream",
     "text": [
      "0:00:00.011001\n"
     ]
    }
   ],
   "source": [
    "start=datetime.now()\n",
    "\n",
    "for i in range(100000):\n",
    "    c+=1\n",
    "end=datetime.now()\n",
    "\n",
    "print(end-start)"
   ]
  },
  {
   "cell_type": "markdown",
   "id": "17d9920f",
   "metadata": {},
   "source": [
    "# Time Resampling"
   ]
  },
  {
   "cell_type": "code",
   "execution_count": 26,
   "id": "6279a785",
   "metadata": {},
   "outputs": [
    {
     "data": {
      "text/html": [
       "<div>\n",
       "<style scoped>\n",
       "    .dataframe tbody tr th:only-of-type {\n",
       "        vertical-align: middle;\n",
       "    }\n",
       "\n",
       "    .dataframe tbody tr th {\n",
       "        vertical-align: top;\n",
       "    }\n",
       "\n",
       "    .dataframe thead th {\n",
       "        text-align: right;\n",
       "    }\n",
       "</style>\n",
       "<table border=\"1\" class=\"dataframe\">\n",
       "  <thead>\n",
       "    <tr style=\"text-align: right;\">\n",
       "      <th></th>\n",
       "      <th>Date</th>\n",
       "      <th>Open</th>\n",
       "      <th>High</th>\n",
       "      <th>Low</th>\n",
       "      <th>Close</th>\n",
       "      <th>Adj Close</th>\n",
       "      <th>Volume</th>\n",
       "    </tr>\n",
       "  </thead>\n",
       "  <tbody>\n",
       "    <tr>\n",
       "      <th>0</th>\n",
       "      <td>2019-02-19</td>\n",
       "      <td>20.437332</td>\n",
       "      <td>20.769333</td>\n",
       "      <td>20.364668</td>\n",
       "      <td>20.375999</td>\n",
       "      <td>20.375999</td>\n",
       "      <td>62526000</td>\n",
       "    </tr>\n",
       "    <tr>\n",
       "      <th>1</th>\n",
       "      <td>2019-02-20</td>\n",
       "      <td>20.294001</td>\n",
       "      <td>20.420000</td>\n",
       "      <td>19.933332</td>\n",
       "      <td>20.170668</td>\n",
       "      <td>20.170668</td>\n",
       "      <td>107131500</td>\n",
       "    </tr>\n",
       "    <tr>\n",
       "      <th>2</th>\n",
       "      <td>2019-02-21</td>\n",
       "      <td>20.120667</td>\n",
       "      <td>20.216000</td>\n",
       "      <td>19.366667</td>\n",
       "      <td>19.415333</td>\n",
       "      <td>19.415333</td>\n",
       "      <td>133638000</td>\n",
       "    </tr>\n",
       "    <tr>\n",
       "      <th>3</th>\n",
       "      <td>2019-02-22</td>\n",
       "      <td>19.632668</td>\n",
       "      <td>19.766666</td>\n",
       "      <td>19.473333</td>\n",
       "      <td>19.647333</td>\n",
       "      <td>19.647333</td>\n",
       "      <td>86109000</td>\n",
       "    </tr>\n",
       "    <tr>\n",
       "      <th>4</th>\n",
       "      <td>2019-02-25</td>\n",
       "      <td>19.860666</td>\n",
       "      <td>20.193333</td>\n",
       "      <td>19.799999</td>\n",
       "      <td>19.917999</td>\n",
       "      <td>19.917999</td>\n",
       "      <td>99397500</td>\n",
       "    </tr>\n",
       "    <tr>\n",
       "      <th>...</th>\n",
       "      <td>...</td>\n",
       "      <td>...</td>\n",
       "      <td>...</td>\n",
       "      <td>...</td>\n",
       "      <td>...</td>\n",
       "      <td>...</td>\n",
       "      <td>...</td>\n",
       "    </tr>\n",
       "    <tr>\n",
       "      <th>1253</th>\n",
       "      <td>2024-02-09</td>\n",
       "      <td>190.179993</td>\n",
       "      <td>194.119995</td>\n",
       "      <td>189.479996</td>\n",
       "      <td>193.570007</td>\n",
       "      <td>193.570007</td>\n",
       "      <td>84476300</td>\n",
       "    </tr>\n",
       "    <tr>\n",
       "      <th>1254</th>\n",
       "      <td>2024-02-12</td>\n",
       "      <td>192.110001</td>\n",
       "      <td>194.729996</td>\n",
       "      <td>187.279999</td>\n",
       "      <td>188.130005</td>\n",
       "      <td>188.130005</td>\n",
       "      <td>95498600</td>\n",
       "    </tr>\n",
       "    <tr>\n",
       "      <th>1255</th>\n",
       "      <td>2024-02-13</td>\n",
       "      <td>183.990005</td>\n",
       "      <td>187.259995</td>\n",
       "      <td>182.110001</td>\n",
       "      <td>184.020004</td>\n",
       "      <td>184.020004</td>\n",
       "      <td>86759500</td>\n",
       "    </tr>\n",
       "    <tr>\n",
       "      <th>1256</th>\n",
       "      <td>2024-02-14</td>\n",
       "      <td>185.300003</td>\n",
       "      <td>188.889999</td>\n",
       "      <td>183.350006</td>\n",
       "      <td>188.710007</td>\n",
       "      <td>188.710007</td>\n",
       "      <td>81203000</td>\n",
       "    </tr>\n",
       "    <tr>\n",
       "      <th>1257</th>\n",
       "      <td>2024-02-15</td>\n",
       "      <td>189.160004</td>\n",
       "      <td>200.880005</td>\n",
       "      <td>188.860001</td>\n",
       "      <td>200.449997</td>\n",
       "      <td>200.449997</td>\n",
       "      <td>120831800</td>\n",
       "    </tr>\n",
       "  </tbody>\n",
       "</table>\n",
       "<p>1258 rows × 7 columns</p>\n",
       "</div>"
      ],
      "text/plain": [
       "           Date        Open        High         Low       Close   Adj Close  \\\n",
       "0    2019-02-19   20.437332   20.769333   20.364668   20.375999   20.375999   \n",
       "1    2019-02-20   20.294001   20.420000   19.933332   20.170668   20.170668   \n",
       "2    2019-02-21   20.120667   20.216000   19.366667   19.415333   19.415333   \n",
       "3    2019-02-22   19.632668   19.766666   19.473333   19.647333   19.647333   \n",
       "4    2019-02-25   19.860666   20.193333   19.799999   19.917999   19.917999   \n",
       "...         ...         ...         ...         ...         ...         ...   \n",
       "1253 2024-02-09  190.179993  194.119995  189.479996  193.570007  193.570007   \n",
       "1254 2024-02-12  192.110001  194.729996  187.279999  188.130005  188.130005   \n",
       "1255 2024-02-13  183.990005  187.259995  182.110001  184.020004  184.020004   \n",
       "1256 2024-02-14  185.300003  188.889999  183.350006  188.710007  188.710007   \n",
       "1257 2024-02-15  189.160004  200.880005  188.860001  200.449997  200.449997   \n",
       "\n",
       "         Volume  \n",
       "0      62526000  \n",
       "1     107131500  \n",
       "2     133638000  \n",
       "3      86109000  \n",
       "4      99397500  \n",
       "...         ...  \n",
       "1253   84476300  \n",
       "1254   95498600  \n",
       "1255   86759500  \n",
       "1256   81203000  \n",
       "1257  120831800  \n",
       "\n",
       "[1258 rows x 7 columns]"
      ]
     },
     "execution_count": 26,
     "metadata": {},
     "output_type": "execute_result"
    }
   ],
   "source": [
    "data"
   ]
  },
  {
   "cell_type": "code",
   "execution_count": 29,
   "id": "32bb1ec2",
   "metadata": {},
   "outputs": [
    {
     "name": "stdout",
     "output_type": "stream",
     "text": [
      "<class 'pandas.core.frame.DataFrame'>\n",
      "RangeIndex: 1258 entries, 0 to 1257\n",
      "Data columns (total 7 columns):\n",
      " #   Column     Non-Null Count  Dtype         \n",
      "---  ------     --------------  -----         \n",
      " 0   Date       1258 non-null   datetime64[ns]\n",
      " 1   Open       1258 non-null   float64       \n",
      " 2   High       1258 non-null   float64       \n",
      " 3   Low        1258 non-null   float64       \n",
      " 4   Close      1258 non-null   float64       \n",
      " 5   Adj Close  1258 non-null   float64       \n",
      " 6   Volume     1258 non-null   int64         \n",
      "dtypes: datetime64[ns](1), float64(5), int64(1)\n",
      "memory usage: 68.9 KB\n"
     ]
    }
   ],
   "source": [
    "data.info()"
   ]
  },
  {
   "cell_type": "code",
   "execution_count": 30,
   "id": "3dd3ee0e",
   "metadata": {},
   "outputs": [],
   "source": [
    "data=data.set_index('Date',drop=True)"
   ]
  },
  {
   "cell_type": "code",
   "execution_count": 31,
   "id": "9713cac7",
   "metadata": {},
   "outputs": [
    {
     "data": {
      "text/html": [
       "<div>\n",
       "<style scoped>\n",
       "    .dataframe tbody tr th:only-of-type {\n",
       "        vertical-align: middle;\n",
       "    }\n",
       "\n",
       "    .dataframe tbody tr th {\n",
       "        vertical-align: top;\n",
       "    }\n",
       "\n",
       "    .dataframe thead th {\n",
       "        text-align: right;\n",
       "    }\n",
       "</style>\n",
       "<table border=\"1\" class=\"dataframe\">\n",
       "  <thead>\n",
       "    <tr style=\"text-align: right;\">\n",
       "      <th></th>\n",
       "      <th>Open</th>\n",
       "      <th>High</th>\n",
       "      <th>Low</th>\n",
       "      <th>Close</th>\n",
       "      <th>Adj Close</th>\n",
       "      <th>Volume</th>\n",
       "    </tr>\n",
       "    <tr>\n",
       "      <th>Date</th>\n",
       "      <th></th>\n",
       "      <th></th>\n",
       "      <th></th>\n",
       "      <th></th>\n",
       "      <th></th>\n",
       "      <th></th>\n",
       "    </tr>\n",
       "  </thead>\n",
       "  <tbody>\n",
       "    <tr>\n",
       "      <th>2019-02-19</th>\n",
       "      <td>20.437332</td>\n",
       "      <td>20.769333</td>\n",
       "      <td>20.364668</td>\n",
       "      <td>20.375999</td>\n",
       "      <td>20.375999</td>\n",
       "      <td>62526000</td>\n",
       "    </tr>\n",
       "    <tr>\n",
       "      <th>2019-02-20</th>\n",
       "      <td>20.294001</td>\n",
       "      <td>20.420000</td>\n",
       "      <td>19.933332</td>\n",
       "      <td>20.170668</td>\n",
       "      <td>20.170668</td>\n",
       "      <td>107131500</td>\n",
       "    </tr>\n",
       "    <tr>\n",
       "      <th>2019-02-21</th>\n",
       "      <td>20.120667</td>\n",
       "      <td>20.216000</td>\n",
       "      <td>19.366667</td>\n",
       "      <td>19.415333</td>\n",
       "      <td>19.415333</td>\n",
       "      <td>133638000</td>\n",
       "    </tr>\n",
       "    <tr>\n",
       "      <th>2019-02-22</th>\n",
       "      <td>19.632668</td>\n",
       "      <td>19.766666</td>\n",
       "      <td>19.473333</td>\n",
       "      <td>19.647333</td>\n",
       "      <td>19.647333</td>\n",
       "      <td>86109000</td>\n",
       "    </tr>\n",
       "    <tr>\n",
       "      <th>2019-02-25</th>\n",
       "      <td>19.860666</td>\n",
       "      <td>20.193333</td>\n",
       "      <td>19.799999</td>\n",
       "      <td>19.917999</td>\n",
       "      <td>19.917999</td>\n",
       "      <td>99397500</td>\n",
       "    </tr>\n",
       "    <tr>\n",
       "      <th>...</th>\n",
       "      <td>...</td>\n",
       "      <td>...</td>\n",
       "      <td>...</td>\n",
       "      <td>...</td>\n",
       "      <td>...</td>\n",
       "      <td>...</td>\n",
       "    </tr>\n",
       "    <tr>\n",
       "      <th>2024-02-09</th>\n",
       "      <td>190.179993</td>\n",
       "      <td>194.119995</td>\n",
       "      <td>189.479996</td>\n",
       "      <td>193.570007</td>\n",
       "      <td>193.570007</td>\n",
       "      <td>84476300</td>\n",
       "    </tr>\n",
       "    <tr>\n",
       "      <th>2024-02-12</th>\n",
       "      <td>192.110001</td>\n",
       "      <td>194.729996</td>\n",
       "      <td>187.279999</td>\n",
       "      <td>188.130005</td>\n",
       "      <td>188.130005</td>\n",
       "      <td>95498600</td>\n",
       "    </tr>\n",
       "    <tr>\n",
       "      <th>2024-02-13</th>\n",
       "      <td>183.990005</td>\n",
       "      <td>187.259995</td>\n",
       "      <td>182.110001</td>\n",
       "      <td>184.020004</td>\n",
       "      <td>184.020004</td>\n",
       "      <td>86759500</td>\n",
       "    </tr>\n",
       "    <tr>\n",
       "      <th>2024-02-14</th>\n",
       "      <td>185.300003</td>\n",
       "      <td>188.889999</td>\n",
       "      <td>183.350006</td>\n",
       "      <td>188.710007</td>\n",
       "      <td>188.710007</td>\n",
       "      <td>81203000</td>\n",
       "    </tr>\n",
       "    <tr>\n",
       "      <th>2024-02-15</th>\n",
       "      <td>189.160004</td>\n",
       "      <td>200.880005</td>\n",
       "      <td>188.860001</td>\n",
       "      <td>200.449997</td>\n",
       "      <td>200.449997</td>\n",
       "      <td>120831800</td>\n",
       "    </tr>\n",
       "  </tbody>\n",
       "</table>\n",
       "<p>1258 rows × 6 columns</p>\n",
       "</div>"
      ],
      "text/plain": [
       "                  Open        High         Low       Close   Adj Close  \\\n",
       "Date                                                                     \n",
       "2019-02-19   20.437332   20.769333   20.364668   20.375999   20.375999   \n",
       "2019-02-20   20.294001   20.420000   19.933332   20.170668   20.170668   \n",
       "2019-02-21   20.120667   20.216000   19.366667   19.415333   19.415333   \n",
       "2019-02-22   19.632668   19.766666   19.473333   19.647333   19.647333   \n",
       "2019-02-25   19.860666   20.193333   19.799999   19.917999   19.917999   \n",
       "...                ...         ...         ...         ...         ...   \n",
       "2024-02-09  190.179993  194.119995  189.479996  193.570007  193.570007   \n",
       "2024-02-12  192.110001  194.729996  187.279999  188.130005  188.130005   \n",
       "2024-02-13  183.990005  187.259995  182.110001  184.020004  184.020004   \n",
       "2024-02-14  185.300003  188.889999  183.350006  188.710007  188.710007   \n",
       "2024-02-15  189.160004  200.880005  188.860001  200.449997  200.449997   \n",
       "\n",
       "               Volume  \n",
       "Date                   \n",
       "2019-02-19   62526000  \n",
       "2019-02-20  107131500  \n",
       "2019-02-21  133638000  \n",
       "2019-02-22   86109000  \n",
       "2019-02-25   99397500  \n",
       "...               ...  \n",
       "2024-02-09   84476300  \n",
       "2024-02-12   95498600  \n",
       "2024-02-13   86759500  \n",
       "2024-02-14   81203000  \n",
       "2024-02-15  120831800  \n",
       "\n",
       "[1258 rows x 6 columns]"
      ]
     },
     "execution_count": 31,
     "metadata": {},
     "output_type": "execute_result"
    }
   ],
   "source": [
    "data"
   ]
  },
  {
   "cell_type": "code",
   "execution_count": 33,
   "id": "011d83cc",
   "metadata": {},
   "outputs": [
    {
     "data": {
      "text/html": [
       "<div>\n",
       "<style scoped>\n",
       "    .dataframe tbody tr th:only-of-type {\n",
       "        vertical-align: middle;\n",
       "    }\n",
       "\n",
       "    .dataframe tbody tr th {\n",
       "        vertical-align: top;\n",
       "    }\n",
       "\n",
       "    .dataframe thead th {\n",
       "        text-align: right;\n",
       "    }\n",
       "</style>\n",
       "<table border=\"1\" class=\"dataframe\">\n",
       "  <thead>\n",
       "    <tr style=\"text-align: right;\">\n",
       "      <th></th>\n",
       "      <th>Open</th>\n",
       "      <th>High</th>\n",
       "      <th>Low</th>\n",
       "      <th>Close</th>\n",
       "      <th>Adj Close</th>\n",
       "      <th>Volume</th>\n",
       "    </tr>\n",
       "    <tr>\n",
       "      <th>Date</th>\n",
       "      <th></th>\n",
       "      <th></th>\n",
       "      <th></th>\n",
       "      <th></th>\n",
       "      <th></th>\n",
       "      <th></th>\n",
       "    </tr>\n",
       "  </thead>\n",
       "  <tbody>\n",
       "    <tr>\n",
       "      <th>2019-12-31</th>\n",
       "      <td>29.000000</td>\n",
       "      <td>29.020666</td>\n",
       "      <td>28.423332</td>\n",
       "      <td>28.729334</td>\n",
       "      <td>28.729334</td>\n",
       "      <td>450091500</td>\n",
       "    </tr>\n",
       "    <tr>\n",
       "      <th>2020-12-31</th>\n",
       "      <td>233.330002</td>\n",
       "      <td>239.573334</td>\n",
       "      <td>230.373337</td>\n",
       "      <td>235.223328</td>\n",
       "      <td>235.223328</td>\n",
       "      <td>914082000</td>\n",
       "    </tr>\n",
       "    <tr>\n",
       "      <th>2021-12-31</th>\n",
       "      <td>411.470001</td>\n",
       "      <td>414.496674</td>\n",
       "      <td>405.666656</td>\n",
       "      <td>409.970001</td>\n",
       "      <td>409.970001</td>\n",
       "      <td>268189500</td>\n",
       "    </tr>\n",
       "    <tr>\n",
       "      <th>2022-12-31</th>\n",
       "      <td>396.516663</td>\n",
       "      <td>402.666656</td>\n",
       "      <td>378.679993</td>\n",
       "      <td>399.926666</td>\n",
       "      <td>399.926666</td>\n",
       "      <td>221923300</td>\n",
       "    </tr>\n",
       "    <tr>\n",
       "      <th>2023-12-31</th>\n",
       "      <td>296.040009</td>\n",
       "      <td>299.290009</td>\n",
       "      <td>289.519989</td>\n",
       "      <td>293.339996</td>\n",
       "      <td>293.339996</td>\n",
       "      <td>306590600</td>\n",
       "    </tr>\n",
       "    <tr>\n",
       "      <th>2024-12-31</th>\n",
       "      <td>250.080002</td>\n",
       "      <td>251.250000</td>\n",
       "      <td>244.410004</td>\n",
       "      <td>248.419998</td>\n",
       "      <td>248.419998</td>\n",
       "      <td>198076800</td>\n",
       "    </tr>\n",
       "  </tbody>\n",
       "</table>\n",
       "</div>"
      ],
      "text/plain": [
       "                  Open        High         Low       Close   Adj Close  \\\n",
       "Date                                                                     \n",
       "2019-12-31   29.000000   29.020666   28.423332   28.729334   28.729334   \n",
       "2020-12-31  233.330002  239.573334  230.373337  235.223328  235.223328   \n",
       "2021-12-31  411.470001  414.496674  405.666656  409.970001  409.970001   \n",
       "2022-12-31  396.516663  402.666656  378.679993  399.926666  399.926666   \n",
       "2023-12-31  296.040009  299.290009  289.519989  293.339996  293.339996   \n",
       "2024-12-31  250.080002  251.250000  244.410004  248.419998  248.419998   \n",
       "\n",
       "               Volume  \n",
       "Date                   \n",
       "2019-12-31  450091500  \n",
       "2020-12-31  914082000  \n",
       "2021-12-31  268189500  \n",
       "2022-12-31  221923300  \n",
       "2023-12-31  306590600  \n",
       "2024-12-31  198076800  "
      ]
     },
     "execution_count": 33,
     "metadata": {},
     "output_type": "execute_result"
    }
   ],
   "source": [
    "data.resample(rule='A').max()"
   ]
  },
  {
   "cell_type": "code",
   "execution_count": 34,
   "id": "7d2f140b",
   "metadata": {},
   "outputs": [
    {
     "data": {
      "text/plain": [
       "<AxesSubplot:xlabel='Date'>"
      ]
     },
     "execution_count": 34,
     "metadata": {},
     "output_type": "execute_result"
    },
    {
     "data": {
      "image/png": "[encoded data removed]",
      "text/plain": [
       "<Figure size 640x480 with 1 Axes>"
      ]
     },
     "metadata": {},
     "output_type": "display_data"
    }
   ],
   "source": [
    "data.resample(rule='A').max()['Open'].plot()"
   ]
  },
  {
   "cell_type": "markdown",
   "id": "e3b2d2e7",
   "metadata": {},
   "source": [
    "## Rolling"
   ]
  },
  {
   "cell_type": "code",
   "execution_count": 40,
   "id": "937775ce",
   "metadata": {},
   "outputs": [
    {
     "data": {
      "text/plain": [
       "Date\n",
       "2019-02-19    20.769333\n",
       "2019-02-20    20.420000\n",
       "2019-02-21    20.216000\n",
       "2019-02-22    19.766666\n",
       "2019-02-25    20.193333\n",
       "2019-02-26    20.134001\n",
       "2019-02-27    21.086666\n",
       "2019-02-28    21.333332\n",
       "2019-03-01    20.475332\n",
       "2019-03-04    19.933332\n",
       "Name: High, dtype: float64"
      ]
     },
     "execution_count": 40,
     "metadata": {},
     "output_type": "execute_result"
    }
   ],
   "source": [
    "data['High'].head(10)"
   ]
  },
  {
   "cell_type": "code",
   "execution_count": 51,
   "id": "b3dc874d",
   "metadata": {},
   "outputs": [
    {
     "data": {
      "text/html": [
       "<div>\n",
       "<style scoped>\n",
       "    .dataframe tbody tr th:only-of-type {\n",
       "        vertical-align: middle;\n",
       "    }\n",
       "\n",
       "    .dataframe tbody tr th {\n",
       "        vertical-align: top;\n",
       "    }\n",
       "\n",
       "    .dataframe thead th {\n",
       "        text-align: right;\n",
       "    }\n",
       "</style>\n",
       "<table border=\"1\" class=\"dataframe\">\n",
       "  <thead>\n",
       "    <tr style=\"text-align: right;\">\n",
       "      <th></th>\n",
       "      <th>Open</th>\n",
       "      <th>High</th>\n",
       "      <th>Low</th>\n",
       "      <th>Close</th>\n",
       "      <th>Adj Close</th>\n",
       "      <th>Volume</th>\n",
       "    </tr>\n",
       "    <tr>\n",
       "      <th>Date</th>\n",
       "      <th></th>\n",
       "      <th></th>\n",
       "      <th></th>\n",
       "      <th></th>\n",
       "      <th></th>\n",
       "      <th></th>\n",
       "    </tr>\n",
       "  </thead>\n",
       "  <tbody>\n",
       "    <tr>\n",
       "      <th>2019-02-19</th>\n",
       "      <td>20.437332</td>\n",
       "      <td>20.769333</td>\n",
       "      <td>20.364668</td>\n",
       "      <td>20.375999</td>\n",
       "      <td>20.375999</td>\n",
       "      <td>62526000</td>\n",
       "    </tr>\n",
       "    <tr>\n",
       "      <th>2019-02-20</th>\n",
       "      <td>20.294001</td>\n",
       "      <td>20.420000</td>\n",
       "      <td>19.933332</td>\n",
       "      <td>20.170668</td>\n",
       "      <td>20.170668</td>\n",
       "      <td>107131500</td>\n",
       "    </tr>\n",
       "    <tr>\n",
       "      <th>2019-02-21</th>\n",
       "      <td>20.120667</td>\n",
       "      <td>20.216000</td>\n",
       "      <td>19.366667</td>\n",
       "      <td>19.415333</td>\n",
       "      <td>19.415333</td>\n",
       "      <td>133638000</td>\n",
       "    </tr>\n",
       "    <tr>\n",
       "      <th>2019-02-22</th>\n",
       "      <td>19.632668</td>\n",
       "      <td>19.766666</td>\n",
       "      <td>19.473333</td>\n",
       "      <td>19.647333</td>\n",
       "      <td>19.647333</td>\n",
       "      <td>86109000</td>\n",
       "    </tr>\n",
       "    <tr>\n",
       "      <th>2019-02-25</th>\n",
       "      <td>19.860666</td>\n",
       "      <td>20.193333</td>\n",
       "      <td>19.799999</td>\n",
       "      <td>19.917999</td>\n",
       "      <td>19.917999</td>\n",
       "      <td>99397500</td>\n",
       "    </tr>\n",
       "    <tr>\n",
       "      <th>...</th>\n",
       "      <td>...</td>\n",
       "      <td>...</td>\n",
       "      <td>...</td>\n",
       "      <td>...</td>\n",
       "      <td>...</td>\n",
       "      <td>...</td>\n",
       "    </tr>\n",
       "    <tr>\n",
       "      <th>2024-02-09</th>\n",
       "      <td>190.179993</td>\n",
       "      <td>194.119995</td>\n",
       "      <td>189.479996</td>\n",
       "      <td>193.570007</td>\n",
       "      <td>193.570007</td>\n",
       "      <td>84476300</td>\n",
       "    </tr>\n",
       "    <tr>\n",
       "      <th>2024-02-12</th>\n",
       "      <td>192.110001</td>\n",
       "      <td>194.729996</td>\n",
       "      <td>187.279999</td>\n",
       "      <td>188.130005</td>\n",
       "      <td>188.130005</td>\n",
       "      <td>95498600</td>\n",
       "    </tr>\n",
       "    <tr>\n",
       "      <th>2024-02-13</th>\n",
       "      <td>183.990005</td>\n",
       "      <td>187.259995</td>\n",
       "      <td>182.110001</td>\n",
       "      <td>184.020004</td>\n",
       "      <td>184.020004</td>\n",
       "      <td>86759500</td>\n",
       "    </tr>\n",
       "    <tr>\n",
       "      <th>2024-02-14</th>\n",
       "      <td>185.300003</td>\n",
       "      <td>188.889999</td>\n",
       "      <td>183.350006</td>\n",
       "      <td>188.710007</td>\n",
       "      <td>188.710007</td>\n",
       "      <td>81203000</td>\n",
       "    </tr>\n",
       "    <tr>\n",
       "      <th>2024-02-15</th>\n",
       "      <td>189.160004</td>\n",
       "      <td>200.880005</td>\n",
       "      <td>188.860001</td>\n",
       "      <td>200.449997</td>\n",
       "      <td>200.449997</td>\n",
       "      <td>120831800</td>\n",
       "    </tr>\n",
       "  </tbody>\n",
       "</table>\n",
       "<p>1258 rows × 6 columns</p>\n",
       "</div>"
      ],
      "text/plain": [
       "                  Open        High         Low       Close   Adj Close  \\\n",
       "Date                                                                     \n",
       "2019-02-19   20.437332   20.769333   20.364668   20.375999   20.375999   \n",
       "2019-02-20   20.294001   20.420000   19.933332   20.170668   20.170668   \n",
       "2019-02-21   20.120667   20.216000   19.366667   19.415333   19.415333   \n",
       "2019-02-22   19.632668   19.766666   19.473333   19.647333   19.647333   \n",
       "2019-02-25   19.860666   20.193333   19.799999   19.917999   19.917999   \n",
       "...                ...         ...         ...         ...         ...   \n",
       "2024-02-09  190.179993  194.119995  189.479996  193.570007  193.570007   \n",
       "2024-02-12  192.110001  194.729996  187.279999  188.130005  188.130005   \n",
       "2024-02-13  183.990005  187.259995  182.110001  184.020004  184.020004   \n",
       "2024-02-14  185.300003  188.889999  183.350006  188.710007  188.710007   \n",
       "2024-02-15  189.160004  200.880005  188.860001  200.449997  200.449997   \n",
       "\n",
       "               Volume  \n",
       "Date                   \n",
       "2019-02-19   62526000  \n",
       "2019-02-20  107131500  \n",
       "2019-02-21  133638000  \n",
       "2019-02-22   86109000  \n",
       "2019-02-25   99397500  \n",
       "...               ...  \n",
       "2024-02-09   84476300  \n",
       "2024-02-12   95498600  \n",
       "2024-02-13   86759500  \n",
       "2024-02-14   81203000  \n",
       "2024-02-15  120831800  \n",
       "\n",
       "[1258 rows x 6 columns]"
      ]
     },
     "execution_count": 51,
     "metadata": {},
     "output_type": "execute_result"
    }
   ],
   "source": [
    "data.drop(columns='high_rolled')"
   ]
  },
  {
   "cell_type": "code",
   "execution_count": 52,
   "id": "0b467f50",
   "metadata": {},
   "outputs": [],
   "source": [
    "data['high_rolled']=data['High'].rolling(5).mean()"
   ]
  },
  {
   "cell_type": "code",
   "execution_count": 53,
   "id": "f8414a64",
   "metadata": {},
   "outputs": [
    {
     "data": {
      "text/html": [
       "<div>\n",
       "<style scoped>\n",
       "    .dataframe tbody tr th:only-of-type {\n",
       "        vertical-align: middle;\n",
       "    }\n",
       "\n",
       "    .dataframe tbody tr th {\n",
       "        vertical-align: top;\n",
       "    }\n",
       "\n",
       "    .dataframe thead th {\n",
       "        text-align: right;\n",
       "    }\n",
       "</style>\n",
       "<table border=\"1\" class=\"dataframe\">\n",
       "  <thead>\n",
       "    <tr style=\"text-align: right;\">\n",
       "      <th></th>\n",
       "      <th>Open</th>\n",
       "      <th>High</th>\n",
       "      <th>Low</th>\n",
       "      <th>Close</th>\n",
       "      <th>Adj Close</th>\n",
       "      <th>Volume</th>\n",
       "      <th>high_rolled</th>\n",
       "    </tr>\n",
       "    <tr>\n",
       "      <th>Date</th>\n",
       "      <th></th>\n",
       "      <th></th>\n",
       "      <th></th>\n",
       "      <th></th>\n",
       "      <th></th>\n",
       "      <th></th>\n",
       "      <th></th>\n",
       "    </tr>\n",
       "  </thead>\n",
       "  <tbody>\n",
       "    <tr>\n",
       "      <th>2019-02-19</th>\n",
       "      <td>20.437332</td>\n",
       "      <td>20.769333</td>\n",
       "      <td>20.364668</td>\n",
       "      <td>20.375999</td>\n",
       "      <td>20.375999</td>\n",
       "      <td>62526000</td>\n",
       "      <td>NaN</td>\n",
       "    </tr>\n",
       "    <tr>\n",
       "      <th>2019-02-20</th>\n",
       "      <td>20.294001</td>\n",
       "      <td>20.420000</td>\n",
       "      <td>19.933332</td>\n",
       "      <td>20.170668</td>\n",
       "      <td>20.170668</td>\n",
       "      <td>107131500</td>\n",
       "      <td>NaN</td>\n",
       "    </tr>\n",
       "    <tr>\n",
       "      <th>2019-02-21</th>\n",
       "      <td>20.120667</td>\n",
       "      <td>20.216000</td>\n",
       "      <td>19.366667</td>\n",
       "      <td>19.415333</td>\n",
       "      <td>19.415333</td>\n",
       "      <td>133638000</td>\n",
       "      <td>NaN</td>\n",
       "    </tr>\n",
       "    <tr>\n",
       "      <th>2019-02-22</th>\n",
       "      <td>19.632668</td>\n",
       "      <td>19.766666</td>\n",
       "      <td>19.473333</td>\n",
       "      <td>19.647333</td>\n",
       "      <td>19.647333</td>\n",
       "      <td>86109000</td>\n",
       "      <td>NaN</td>\n",
       "    </tr>\n",
       "    <tr>\n",
       "      <th>2019-02-25</th>\n",
       "      <td>19.860666</td>\n",
       "      <td>20.193333</td>\n",
       "      <td>19.799999</td>\n",
       "      <td>19.917999</td>\n",
       "      <td>19.917999</td>\n",
       "      <td>99397500</td>\n",
       "      <td>20.273066</td>\n",
       "    </tr>\n",
       "    <tr>\n",
       "      <th>...</th>\n",
       "      <td>...</td>\n",
       "      <td>...</td>\n",
       "      <td>...</td>\n",
       "      <td>...</td>\n",
       "      <td>...</td>\n",
       "      <td>...</td>\n",
       "      <td>...</td>\n",
       "    </tr>\n",
       "    <tr>\n",
       "      <th>2024-02-09</th>\n",
       "      <td>190.179993</td>\n",
       "      <td>194.119995</td>\n",
       "      <td>189.479996</td>\n",
       "      <td>193.570007</td>\n",
       "      <td>193.570007</td>\n",
       "      <td>84476300</td>\n",
       "      <td>189.339996</td>\n",
       "    </tr>\n",
       "    <tr>\n",
       "      <th>2024-02-12</th>\n",
       "      <td>192.110001</td>\n",
       "      <td>194.729996</td>\n",
       "      <td>187.279999</td>\n",
       "      <td>188.130005</td>\n",
       "      <td>188.130005</td>\n",
       "      <td>95498600</td>\n",
       "      <td>191.349997</td>\n",
       "    </tr>\n",
       "    <tr>\n",
       "      <th>2024-02-13</th>\n",
       "      <td>183.990005</td>\n",
       "      <td>187.259995</td>\n",
       "      <td>182.110001</td>\n",
       "      <td>184.020004</td>\n",
       "      <td>184.020004</td>\n",
       "      <td>86759500</td>\n",
       "      <td>191.503995</td>\n",
       "    </tr>\n",
       "    <tr>\n",
       "      <th>2024-02-14</th>\n",
       "      <td>185.300003</td>\n",
       "      <td>188.889999</td>\n",
       "      <td>183.350006</td>\n",
       "      <td>188.710007</td>\n",
       "      <td>188.710007</td>\n",
       "      <td>81203000</td>\n",
       "      <td>191.323996</td>\n",
       "    </tr>\n",
       "    <tr>\n",
       "      <th>2024-02-15</th>\n",
       "      <td>189.160004</td>\n",
       "      <td>200.880005</td>\n",
       "      <td>188.860001</td>\n",
       "      <td>200.449997</td>\n",
       "      <td>200.449997</td>\n",
       "      <td>120831800</td>\n",
       "      <td>193.175998</td>\n",
       "    </tr>\n",
       "  </tbody>\n",
       "</table>\n",
       "<p>1258 rows × 7 columns</p>\n",
       "</div>"
      ],
      "text/plain": [
       "                  Open        High         Low       Close   Adj Close  \\\n",
       "Date                                                                     \n",
       "2019-02-19   20.437332   20.769333   20.364668   20.375999   20.375999   \n",
       "2019-02-20   20.294001   20.420000   19.933332   20.170668   20.170668   \n",
       "2019-02-21   20.120667   20.216000   19.366667   19.415333   19.415333   \n",
       "2019-02-22   19.632668   19.766666   19.473333   19.647333   19.647333   \n",
       "2019-02-25   19.860666   20.193333   19.799999   19.917999   19.917999   \n",
       "...                ...         ...         ...         ...         ...   \n",
       "2024-02-09  190.179993  194.119995  189.479996  193.570007  193.570007   \n",
       "2024-02-12  192.110001  194.729996  187.279999  188.130005  188.130005   \n",
       "2024-02-13  183.990005  187.259995  182.110001  184.020004  184.020004   \n",
       "2024-02-14  185.300003  188.889999  183.350006  188.710007  188.710007   \n",
       "2024-02-15  189.160004  200.880005  188.860001  200.449997  200.449997   \n",
       "\n",
       "               Volume  high_rolled  \n",
       "Date                                \n",
       "2019-02-19   62526000          NaN  \n",
       "2019-02-20  107131500          NaN  \n",
       "2019-02-21  133638000          NaN  \n",
       "2019-02-22   86109000          NaN  \n",
       "2019-02-25   99397500    20.273066  \n",
       "...               ...          ...  \n",
       "2024-02-09   84476300   189.339996  \n",
       "2024-02-12   95498600   191.349997  \n",
       "2024-02-13   86759500   191.503995  \n",
       "2024-02-14   81203000   191.323996  \n",
       "2024-02-15  120831800   193.175998  \n",
       "\n",
       "[1258 rows x 7 columns]"
      ]
     },
     "execution_count": 53,
     "metadata": {},
     "output_type": "execute_result"
    }
   ],
   "source": [
    "data"
   ]
  },
  {
   "cell_type": "markdown",
   "id": "86446f74",
   "metadata": {},
   "source": [
    "# Smoothening"
   ]
  },
  {
   "cell_type": "code",
   "execution_count": 58,
   "id": "e4dded32",
   "metadata": {},
   "outputs": [
    {
     "data": {
      "text/plain": [
       "<AxesSubplot:xlabel='Date'>"
      ]
     },
     "execution_count": 58,
     "metadata": {},
     "output_type": "execute_result"
    },
    {
     "data": {
      "image/png": "[encoded data removed]",
      "text/plain": [
       "<Figure size 1200x500 with 1 Axes>"
      ]
     },
     "metadata": {},
     "output_type": "display_data"
    }
   ],
   "source": [
    "data[['High','high_rolled']].head(200).plot(figsize=(12,5))"
   ]
  },
  {
   "cell_type": "markdown",
   "id": "addd9a66",
   "metadata": {},
   "source": [
    "# Cumulative Moving Average"
   ]
  },
  {
   "cell_type": "code",
   "execution_count": 59,
   "id": "e8e3310e",
   "metadata": {},
   "outputs": [],
   "source": [
    "data['CMA_Open']=data['Open'].expanding().mean()"
   ]
  },
  {
   "cell_type": "code",
   "execution_count": 60,
   "id": "44380430",
   "metadata": {},
   "outputs": [
    {
     "data": {
      "text/plain": [
       "<AxesSubplot:xlabel='Date'>"
      ]
     },
     "execution_count": 60,
     "metadata": {},
     "output_type": "execute_result"
    },
    {
     "data": {
      "image/png": "[encoded data removed]",
      "text/plain": [
       "<Figure size 1000x500 with 1 Axes>"
      ]
     },
     "metadata": {},
     "output_type": "display_data"
    }
   ],
   "source": [
    "data[['Open','CMA_Open']].plot(figsize=(10,5))"
   ]
  },
  {
   "cell_type": "code",
   "execution_count": null,
   "id": "f8ad0c4a",
   "metadata": {},
   "outputs": [],
   "source": []
  }
 ],
 "metadata": {
  "kernelspec": {
   "display_name": "Python 3 (ipykernel)",
   "language": "python",
   "name": "python3"
  },
  "language_info": {
   "codemirror_mode": {
    "name": "ipython",
    "version": 3
   },
   "file_extension": ".py",
   "mimetype": "text/x-python",
   "name": "python",
   "nbconvert_exporter": "python",
   "pygments_lexer": "ipython3",
   "version": "3.9.13"
  }
 },
 "nbformat": 4,
 "nbformat_minor": 5
}
